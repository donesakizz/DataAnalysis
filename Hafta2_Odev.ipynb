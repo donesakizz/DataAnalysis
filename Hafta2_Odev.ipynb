{
 "cells": [
  {
   "cell_type": "code",
   "execution_count": null,
   "id": "c4e3b0ba",
   "metadata": {},
   "outputs": [],
   "source": [
    "# pip install ipykernel   (terminalde yap vscode /pip install notebook yaptım uzun sürdü )\n",
    "\n",
    "# Get initial values from the user\n",
    "sayi = int(input(\"Bir sayı giriniz: \"))\n",
    "isim = input(\"Adınızı giriniz: \")\n",
    "not_deg = int(input(\"Notunuzu giriniz (0-100): \"))"
   ]
  },
  {
   "cell_type": "code",
   "execution_count": null,
   "id": "0403bc6c",
   "metadata": {},
   "outputs": [],
   "source": [
    "# Condition that writes whether the entered number is positive, negative, or zero\n",
    "if sayi > 0:\n",
    "    print(\"Pozitif bir sayı girdiniz.\")\n",
    "elif sayi < 0:\n",
    "    print(\"Negatif bir sayı girdiniz.\")\n",
    "else:\n",
    "    print(\"Sıfır girdiniz.\")"
   ]
  },
  {
   "cell_type": "code",
   "execution_count": null,
   "id": "2828509f",
   "metadata": {},
   "outputs": [],
   "source": [
    "# Condition that writes whether the entered number is even or odd\n",
    "if sayi % 2 == 0:\n",
    "    print(\"Çift bir sayı girdiniz.\")\n",
    "else:\n",
    "    print(\"Tek bir sayı girdiniz.\")"
   ]
  },
  {
   "cell_type": "code",
   "execution_count": null,
   "id": "657a1b86",
   "metadata": {},
   "outputs": [],
   "source": [
    "# Condition that writes the letter range according to the entered grade [80-100 A-60-80 B etc.)\n",
    "if 80 <= not_deg <= 100:\n",
    "    print(\"Notunuz: A\")\n",
    "elif 60 <= not_deg < 80:\n",
    "    print(\"Notunuz: B\")\n",
    "elif 40 <= not_deg < 60:\n",
    "    print(\"Notunuz: C\")\n",
    "elif 20 <= not_deg < 40:\n",
    "    print(\"Notunuz: D\")\n",
    "else:\n",
    "    print(\"Notunuz: F\")"
   ]
  },
  {
   "cell_type": "code",
   "execution_count": null,
   "id": "aa7b5e0a",
   "metadata": {},
   "outputs": [],
   "source": [
    "# If the number of characters in the entered name is greater than 5, print \"You have a long name\", otherwise print the name\n",
    "if len(isim) > 5:\n",
    "    print(\"Uzun bir isminiz var.\")\n",
    "else:\n",
    "    print(f\"İsminiz: {isim}\")"
   ]
  },
  {
   "cell_type": "code",
   "execution_count": null,
   "id": "64979a63",
   "metadata": {},
   "outputs": [],
   "source": [
    "# Code sequence that finds whether the entered number is prime (with for and while loops)\n",
    "asal = True\n",
    "if sayi < 2:\n",
    "    asal = False\n",
    "else:\n",
    "    for i in range(2, int(sayi**0.5)+1):\n",
    "        if sayi % i == 0:\n",
    "            asal = False\n",
    "            break\n",
    "if asal:\n",
    "    print(\"Sayı asaldır. (for)\")\n",
    "else:\n",
    "    print(\"Sayı asal değildir. (for)\")"
   ]
  },
  {
   "cell_type": "code",
   "execution_count": null,
   "id": "8ed36de8",
   "metadata": {},
   "outputs": [],
   "source": [
    "# Asal sayı kontrolü (while)\n",
    "asal = True\n",
    "i = 2\n",
    "if sayi < 2:\n",
    "    asal = False\n",
    "else:\n",
    "    while i <= int(sayi**0.5):\n",
    "        if sayi % i == 0:\n",
    "            asal = False\n",
    "            break\n",
    "        i += 1\n",
    "if asal:\n",
    "    print(\"Sayı asaldır. (while)\")\n",
    "else:\n",
    "    print(\"Sayı asal değildir. (while)\")"
   ]
  },
  {
   "cell_type": "code",
   "execution_count": null,
   "id": "ec06699a",
   "metadata": {},
   "outputs": [],
   "source": [
    "# Loop that prints the index of the value 75 in notlar=[45,85,75,50]\n",
    "notlar = [45, 85, 75, 50]\n",
    "for i in range(len(notlar)):\n",
    "    if notlar[i] == 75:\n",
    "        print(f\"75 sayısının indisi: {i}\")\n",
    "        break"
   ]
  },
  {
   "cell_type": "code",
   "execution_count": null,
   "id": "3062c840",
   "metadata": {},
   "outputs": [],
   "source": [
    "# Let's get the factorial of the entered number (with for and while loops)\n",
    "faktoriyel = 1\n",
    "for i in range(1, sayi + 1):\n",
    "    faktoriyel *= i\n",
    "print(f\"{sayi} sayısının faktöriyeli (for): {faktoriyel}\")"
   ]
  },
  {
   "cell_type": "code",
   "execution_count": null,
   "id": "6569b3d6",
   "metadata": {},
   "outputs": [],
   "source": [
    "# Faktöriyel (while)\n",
    "faktoriyel = 1\n",
    "i = 1\n",
    "while i <= sayi:\n",
    "    faktoriyel *= i\n",
    "    i += 1\n",
    "print(f\"{sayi} sayısının faktöriyeli (while): {faktoriyel}\")"
   ]
  },
  {
   "cell_type": "code",
   "execution_count": null,
   "id": "47b9f802",
   "metadata": {},
   "outputs": [],
   "source": [
    "# Let's create a structure that expects a positive number from the user, \n",
    "# prints it as soon as it sees a positive number, and asks again if a negative number is entered (with a for loop - although a while loop is more suitable for indefinite repetition)\n",
    "# Pozitif sayı girene kadar isteyen döngü (for)\n",
    "for _ in range(100):  # Maksimum 100 deneme\n",
    "    sayi2 = int(input(\"Pozitif bir sayı giriniz: \"))\n",
    "    if sayi2 > 0:\n",
    "        print(f\"Girdiğiniz pozitif sayı: {sayi2}\")\n",
    "        break\n"
   ]
  },
  {
   "cell_type": "code",
   "execution_count": null,
   "id": "af4e50d1",
   "metadata": {},
   "outputs": [],
   "source": [
    "# Code sequence that finds whether the entered number is prime with a function (with for and while)\n",
    "# Fonksiyon ile asal kontrolü (for)\n",
    "def asal_mi_for(sayi):\n",
    "    if sayi < 2:\n",
    "        return False\n",
    "    for i in range(2, int(sayi**0.5)+1):\n",
    "        if sayi % i == 0:\n",
    "            return False\n",
    "    return True\n",
    "\n",
    "print(\"Fonksiyon (for) ile asal mı:\", asal_mi_for(sayi))\n",
    "\n",
    "# Fonksiyon ile asal kontrolü (while)\n",
    "def asal_mi_while(sayi):\n",
    "    if sayi < 2:\n",
    "        return False\n",
    "    i = 2\n",
    "    while i <= int(sayi**0.5):\n",
    "        if sayi % i == 0:\n",
    "            return False\n",
    "        i += 1\n",
    "    return True\n",
    "\n",
    "print(\"Fonksiyon (while) ile asal mı:\", asal_mi_while(sayi))\n"
   ]
  },
  {
   "cell_type": "code",
   "execution_count": null,
   "id": "849c0e18",
   "metadata": {},
   "outputs": [],
   "source": [
    "# Let's get the factorial of the entered number with a function (with for and while)\n",
    "# Fonksiyon ile faktöriyel (for)\n",
    "def faktoriyel_for(n):\n",
    "    f = 1\n",
    "    for i in range(1, n + 1):\n",
    "        f *= i\n",
    "    return f\n",
    "\n",
    "print(\"Fonksiyon (for) ile faktöriyel:\", faktoriyel_for(sayi))\n",
    "\n",
    "# Fonksiyon ile faktöriyel (while)\n",
    "def faktoriyel_while(n):\n",
    "    f = 1\n",
    "    i = 1\n",
    "    while i <= n:\n",
    "        f *= i\n",
    "        i += 1\n",
    "    return f\n",
    "\n",
    "print(\"Fonksiyon (while) ile faktöriyel:\", faktoriyel_while(sayi))"
   ]
  }
 ],
 "metadata": {
  "language_info": {
   "name": "python"
  }
 },
 "nbformat": 4,
 "nbformat_minor": 5
}
